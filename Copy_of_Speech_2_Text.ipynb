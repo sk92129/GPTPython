{
  "nbformat": 4,
  "nbformat_minor": 0,
  "metadata": {
    "colab": {
      "provenance": [],
      "authorship_tag": "ABX9TyMgHqqArT87Uqk6/E8ojaW7",
      "include_colab_link": true
    },
    "kernelspec": {
      "name": "python3",
      "display_name": "Python 3"
    },
    "language_info": {
      "name": "python"
    }
  },
  "cells": [
    {
      "cell_type": "markdown",
      "metadata": {
        "id": "view-in-github",
        "colab_type": "text"
      },
      "source": [
        "<a href=\"https://colab.research.google.com/github/sk92129/GPTPython/blob/main/Copy_of_Speech_2_Text.ipynb\" target=\"_parent\"><img src=\"https://colab.research.google.com/assets/colab-badge.svg\" alt=\"Open In Colab\"/></a>"
      ]
    },
    {
      "cell_type": "code",
      "execution_count": null,
      "metadata": {
        "colab": {
          "base_uri": "https://localhost:8080/",
          "height": 384
        },
        "id": "tYuCYyPhqd2v",
        "outputId": "236de7d4-52e1-4670-b64f-d384dc98e5a5"
      },
      "outputs": [
        {
          "output_type": "error",
          "ename": "ModuleNotFoundError",
          "evalue": "No module named 'pyaudio'",
          "traceback": [
            "\u001b[0;31m---------------------------------------------------------------------------\u001b[0m",
            "\u001b[0;31mModuleNotFoundError\u001b[0m                       Traceback (most recent call last)",
            "\u001b[0;32m<ipython-input-1-927365ff1629>\u001b[0m in \u001b[0;36m<cell line: 1>\u001b[0;34m()\u001b[0m\n\u001b[0;32m----> 1\u001b[0;31m \u001b[0;32mimport\u001b[0m \u001b[0mpyaudio\u001b[0m\u001b[0;34m\u001b[0m\u001b[0;34m\u001b[0m\u001b[0m\n\u001b[0m\u001b[1;32m      2\u001b[0m \u001b[0;32mimport\u001b[0m \u001b[0mtorchaudio\u001b[0m\u001b[0;34m\u001b[0m\u001b[0;34m\u001b[0m\u001b[0m\n\u001b[1;32m      3\u001b[0m \u001b[0;32mfrom\u001b[0m \u001b[0mtransformers\u001b[0m \u001b[0;32mimport\u001b[0m \u001b[0mSpeech2TextProcessor\u001b[0m\u001b[0;34m,\u001b[0m \u001b[0mSpeech2TextForConditionalGeneration\u001b[0m\u001b[0;34m\u001b[0m\u001b[0;34m\u001b[0m\u001b[0m\n\u001b[1;32m      4\u001b[0m \u001b[0;34m\u001b[0m\u001b[0m\n\u001b[1;32m      5\u001b[0m \u001b[0;31m# Set up the microphone\u001b[0m\u001b[0;34m\u001b[0m\u001b[0;34m\u001b[0m\u001b[0m\n",
            "\u001b[0;31mModuleNotFoundError\u001b[0m: No module named 'pyaudio'",
            "",
            "\u001b[0;31m---------------------------------------------------------------------------\u001b[0;32m\nNOTE: If your import is failing due to a missing package, you can\nmanually install dependencies using either !pip or !apt.\n\nTo view examples of installing some common dependencies, click the\n\"Open Examples\" button below.\n\u001b[0;31m---------------------------------------------------------------------------\u001b[0m\n"
          ],
          "errorDetails": {
            "actions": [
              {
                "action": "open_url",
                "actionText": "Open Examples",
                "url": "/notebooks/snippets/importing_libraries.ipynb"
              }
            ]
          }
        }
      ],
      "source": [
        "import pyaudio\n",
        "import torchaudio\n",
        "from transformers import Speech2TextProcessor, Speech2TextForConditionalGeneration\n",
        "\n",
        "# Set up the microphone\n",
        "p = pyaudio.PyAudio()\n",
        "stream = p.open(format=pyaudio.paInt16,\n",
        "                channels=1,\n",
        "                rate=16000,\n",
        "                input=True,\n",
        "                frames_per_buffer=1024)\n",
        "\n",
        "# Load the Speech2Text model and processor\n",
        "processor = Speech2TextProcessor.from_pretrained(\"facebook/s2t-base-10k\")\n",
        "model = Speech2TextForConditionalGeneration.from_pretrained(\"facebook/s2t-base-10k\")\n",
        "\n",
        "# Record audio from the microphone and transcribe directly\n",
        "print(\"Recording... Press Ctrl+C to stop.\")\n",
        "try:\n",
        "    while True:\n",
        "        data = stream.read(1024)\n",
        "        waveform = torchaudio.functional.from_buffer(data, 1, 2, 16000)\n",
        "        input_values = processor(waveform, return_tensors=\"pt\").input_values\n",
        "        outputs = model(input_values)\n",
        "        transcription = processor.batch_decode(outputs.logits)\n",
        "        print(\"Predicted Transcription:\", transcription[0])\n",
        "except KeyboardInterrupt:\n",
        "    pass\n",
        "\n",
        "# Stop the stream and close the audio input\n",
        "print(\"Recording stopped.\")\n",
        "stream.stop_stream()\n",
        "stream.close()\n",
        "p.terminate()"
      ]
    }
  ]
}