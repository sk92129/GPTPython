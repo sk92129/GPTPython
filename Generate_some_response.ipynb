{
  "nbformat": 4,
  "nbformat_minor": 0,
  "metadata": {
    "colab": {
      "provenance": [],
      "authorship_tag": "ABX9TyMgCF/i4CfKBQ/VOP0OZIm+",
      "include_colab_link": true
    },
    "kernelspec": {
      "name": "python3",
      "display_name": "Python 3"
    },
    "language_info": {
      "name": "python"
    }
  },
  "cells": [
    {
      "cell_type": "markdown",
      "metadata": {
        "id": "view-in-github",
        "colab_type": "text"
      },
      "source": [
        "<a href=\"https://colab.research.google.com/github/sk92129/GPTPython/blob/main/Generate_some_response.ipynb\" target=\"_parent\"><img src=\"https://colab.research.google.com/assets/colab-badge.svg\" alt=\"Open In Colab\"/></a>"
      ]
    },
    {
      "cell_type": "code",
      "execution_count": 1,
      "metadata": {
        "id": "25a8dnpYxciQ"
      },
      "outputs": [],
      "source": [
        "from transformers import DistilBertTokenizer, DistilBertModel, GPT2LMHeadModel, GPT2Tokenizer, DeiTFeatureExtractor, DeiTForImageClassification"
      ]
    },
    {
      "cell_type": "code",
      "source": [
        "import torch\n",
        "from transformers import DistilBertTokenizer, DistilBertModel, GPT2LMHeadModel, GPT2Tokenizer, CLIPProcessor, CLIPModel\n",
        "\n",
        "# Text Generation with DistilBERT as Encoder and GPT-2 as Decoder\n",
        "def generate_text(prompt):\n",
        "    # Initialize tokenizer and models\n",
        "    bert_tokenizer = DistilBertTokenizer.from_pretrained(\"distilbert-base-uncased\")\n",
        "    bert_model = DistilBertModel.from_pretrained(\"distilbert-base-uncased\")\n",
        "    gpt2_tokenizer = GPT2Tokenizer.from_pretrained(\"gpt2\")\n",
        "    gpt2_model = GPT2LMHeadModel.from_pretrained(\"gpt2\")\n",
        "\n",
        "    # Tokenize the prompt with DistilBERT\n",
        "    inputs = bert_tokenizer(prompt, return_tensors=\"pt\", max_length=1024, truncation=True) # Adjust the parameter as needed\n",
        "\n",
        "    # Get the hidden states from DistilBERT\n",
        "    with torch.no_grad():\n",
        "        outputs = bert_model(**inputs)\n",
        "\n",
        "    # Use the last hidden state as input to GPT-2\n",
        "    input_ids = inputs[\"input_ids\"]\n",
        "    gpt2_inputs = gpt2_tokenizer.encode(prompt, return_tensors=\"pt\", max_length=1024, truncation=True) # Adjust the parameter as needed\n",
        "    gpt2_outputs = gpt2_model.generate(input_ids=gpt2_inputs, max_length=1024, num_beams=5, no_repeat_ngram_size=2, early_stopping=True) # Adjust the parameter as needed\n",
        "\n",
        "    # Decode the output from GPT-2\n",
        "    generated_text = gpt2_tokenizer.decode(gpt2_outputs[0], skip_special_tokens=True)\n",
        "\n",
        "    return generated_text\n",
        "\n",
        "# Let users enter the prompt\n",
        "prompt = input(\"Enter your prompt: \")\n",
        "generated_text = generate_text(prompt)\n",
        "print(\"Generated Text:\", generated_text)"
      ],
      "metadata": {
        "colab": {
          "base_uri": "https://localhost:8080/"
        },
        "id": "wGvt-XXzn1mk",
        "outputId": "aacc5be2-3475-4b4e-e5fe-fee8689f6820"
      },
      "execution_count": 3,
      "outputs": [
        {
          "name": "stdout",
          "output_type": "stream",
          "text": [
            "Enter your prompt: how far away is the moon?\n"
          ]
        },
        {
          "output_type": "stream",
          "name": "stderr",
          "text": [
            "The attention mask and the pad token id were not set. As a consequence, you may observe unexpected behavior. Please pass your input's `attention_mask` to obtain reliable results.\n",
            "Setting `pad_token_id` to `eos_token_id`:50256 for open-end generation.\n"
          ]
        },
        {
          "output_type": "stream",
          "name": "stdout",
          "text": [
            "Generated Text: how far away is the moon?\n",
            "\n",
            "The moon is about 1.5 billion light-years away from Earth. The moon's orbit around the sun is around 2.6 billion miles (3.7 billion kilometers) from the Earth, and its orbit is roughly 1,000 times farther from our sun than the Moon.\n",
            "...\n",
            " (The Moon is a very small planet, about the size of a small island, with a diameter of about 2,500 miles.) The Earth's atmosphere is composed of carbon dioxide (CO2), hydrogen (H 2 ), oxygen (OH), nitrogen (NOx), and sulfur (SO 2 ). The Moon's surface is covered by a thick layer of ice, called a mantle, which is made up of water vapor and methane. This layer is called the mantle layer, or MLC, because it covers the entire surface of the planet. In addition, it contains a large amount of liquid water, such as methane and ethane, as well as oxygen, nitrogen, carbon monoxide, hydrogen sulfide, sulfuric acid, calcium carbonate, manganese, magnesium, potassium, phosphorus, iron, zinc, selenium, copper, nickel, tin, lead, cadmium and zinc. It is also home to a number of life forms, including bacteria, fungi, viruses, bacteria and protozoa. Most of these organisms live on the surface, but some live in the atmosphere, where they can live for thousands of years or even millennia. Some life may even be able to survive in space. For example, some life might survive on a planet that is too hot for life to exist on, while others might live there for a long time. Life on Earth is very different from life on other planets. There are only a few habitable planets on our solar system. On the other hand, there are many life-forms that could be habitable on any of our other worlds. These lifeforms are called \"habitable\" planets because they are so close to the Sun that they do not have to be very far from it to have a habitable environment. They are also known as \"dwarf planets\" because of their large size and the fact that their atmospheres are filled with water. If they were habitable, they would have been much cooler than our Sun. However, if they weren't, then they wouldn't be so hot that life could survive there. Because of this, many habitable worlds are not habitable at all. Many of them are very cold, so they don't have much water to breathe on their surface. So, even if we were to go to Mars, we would still be in a much colder place than we are now. And, of course, that would mean that there would be no life in our Solar System. That is, life would not exist there on this planet because there is no water on it. Therefore, the only way we could have life is if there were life elsewhere on Mars. We would need to find a way to make life there habitable. To do so would require a lot of money. But, this is where the money comes in. You can find out more about how to do this by going to NASA's website: http://www.nasa.gov/mission_pages/science/planetary_planets.html. If you have any questions or comments, please feel free to contact us at: [email protected] and we will be happy to answer them.\n"
          ]
        }
      ]
    },
    {
      "cell_type": "markdown",
      "source": [],
      "metadata": {
        "id": "Ges3xqDWxp8c"
      }
    }
  ]
}